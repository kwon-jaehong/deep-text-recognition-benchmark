{
 "cells": [
  {
   "cell_type": "code",
   "execution_count": null,
   "id": "4458d60e",
   "metadata": {},
   "outputs": [],
   "source": [
    "python3.7 train.py --train_data /data/data/STARN/data_lmdb_release/training --valid_data /data/data/STARN/data_lmdb_release/validation --select_data ST --batch_ratio 1 --Transformation TPS --FeatureExtraction ResNet --SequenceModeling BiLSTM --Prediction Attn\n"
   ]
  },
  {
   "cell_type": "code",
   "execution_count": 2,
   "id": "1db5cb4b",
   "metadata": {},
   "outputs": [
    {
     "name": "stdout",
     "output_type": "stream",
     "text": [
      "0123456789abcdefghijklmnopqrstuvwxyzABCDEFGHIJKLMNOPQRSTUVWXYZ!\"#$%&'()*+,-./:;<=>?@[\\]^_`{|}~ \t\n",
      "\r",
      "\u000b",
      "\f",
      "\n",
      "0123456789abcdefghijklmnopqrstuvwxyzABCDEFGHIJKLMNOPQRSTUVWXYZ!\"#$%&'()*+,-./:;<=>?@[\\]^_`{|}~\n"
     ]
    }
   ],
   "source": [
    "import string\n",
    "print(string.printable[:])\n",
    "print(string.printable[:-6])"
   ]
  },
  {
   "cell_type": "code",
   "execution_count": null,
   "id": "32855225",
   "metadata": {},
   "outputs": [],
   "source": [
    "/data/mrjaehong/data_set/imdb/data_lmdb_release"
   ]
  },
  {
   "cell_type": "code",
   "execution_count": null,
   "id": "11a555f5",
   "metadata": {},
   "outputs": [],
   "source": [
    "python3.7 ./train.py --train_data /data/mrjaehong/data_set/imdb/data_lmdb_release --valid_data /data/mrjaehong/data_set/imdb/data_lmdb_release/validation --select_data MJ-ST --batch_ratio 0.5-0.5 --Transformation TPS --FeatureExtraction ResNet --SequenceModeling BiLSTM --Prediction Attn"
   ]
  }
 ],
 "metadata": {
  "kernelspec": {
   "display_name": "Python 3",
   "language": "python",
   "name": "python3"
  },
  "language_info": {
   "codemirror_mode": {
    "name": "ipython",
    "version": 3
   },
   "file_extension": ".py",
   "mimetype": "text/x-python",
   "name": "python",
   "nbconvert_exporter": "python",
   "pygments_lexer": "ipython3",
   "version": "3.7.5"
  }
 },
 "nbformat": 4,
 "nbformat_minor": 5
}
