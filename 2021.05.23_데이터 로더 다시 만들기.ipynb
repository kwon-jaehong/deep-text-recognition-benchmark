{
 "cells": [
  {
   "cell_type": "code",
   "execution_count": 1,
   "id": "683a92b9",
   "metadata": {},
   "outputs": [],
   "source": [
    "import os\n",
    "import sys\n",
    "import re\n",
    "import six\n",
    "import math\n",
    "import lmdb\n",
    "import torch\n",
    "\n",
    "import pandas as pd\n",
    "from natsort import natsorted\n",
    "from PIL import Image\n",
    "import numpy as np\n",
    "from torch.utils.data import Dataset, ConcatDataset, Subset\n",
    "from torch._utils import _accumulate\n",
    "import torchvision.transforms as transforms\n",
    "\n",
    "class ResizeNormalize(object):\n",
    "\n",
    "    def __init__(self, size, interpolation=Image.BICUBIC):\n",
    "        self.size = size\n",
    "        self.interpolation = interpolation\n",
    "        self.toTensor = transforms.ToTensor()\n",
    "\n",
    "    def __call__(self, img):\n",
    "        img = img.resize(self.size, self.interpolation)\n",
    "        img = self.toTensor(img)\n",
    "        img.sub_(0.5).div_(0.5)\n",
    "        return img\n",
    "\n",
    "\n",
    "\n",
    "class AlignCollate(object):\n",
    "\n",
    "    def __init__(self, imgH=32, imgW=100, keep_ratio_with_pad=False):\n",
    "        self.imgH = imgH\n",
    "        self.imgW = imgW\n",
    "\n",
    "    def __call__(self, batch):\n",
    "        batch = filter(lambda x: x is not None, batch)\n",
    "        images, labels = zip(*batch)\n",
    "\n",
    "        transform = ResizeNormalize((self.imgW, self.imgH))\n",
    "        image_tensors = [transform(image) for image in images]\n",
    "        image_tensors = torch.cat([t.unsqueeze(0) for t in image_tensors], 0)\n",
    "\n",
    "        return image_tensors, labels\n",
    "\n"
   ]
  },
  {
   "cell_type": "code",
   "execution_count": 2,
   "id": "98107ae8",
   "metadata": {},
   "outputs": [],
   "source": [
    "\n",
    "\n",
    "class custom_dataset(Dataset):\n",
    "    def __init__(self,data_csv_file_path):\n",
    "        df = pd.read_csv(data_csv_file_path,encoding=\"cp949\")\n",
    "        self.image_path_list = df['path_file'].to_list()\n",
    "        self.text_label_list = df['label'].to_list()\n",
    "        self.nSamples = len(self.image_path_list)\n",
    "    def __len__(self):\n",
    "        return self.nSamples\n",
    "    \n",
    "    def __getitem__(self, index):\n",
    "        img = Image.open(self.image_path_list[index]).convert('L')\n",
    "        return (img, self.text_label_list[index])\n",
    "\n",
    "    \n",
    "class custom_Batch_Balanced_Dataset(object):\n",
    "    def __init__(self, opt):\n",
    "        self.dataloader_iter_list = []\n",
    "        _AlignCollate = AlignCollate(imgH=opt.imgH, imgW=opt.imgW, keep_ratio_with_pad=opt.PAD)\n",
    "        _dataset = custom_dataset(\"/data/work_dir/img/generate_text_ko/mrjaehong_text_generation/generate_img/label.csv\")\n",
    "        _data_loader = torch.utils.data.DataLoader(_dataset, batch_size=opt.batch_size,shuffle=True,num_workers=int(opt.workers),collate_fn=_AlignCollate, pin_memory=True)\n",
    "     \n",
    "        self.dataloader_iter_list.append(iter(_data_loader))\n",
    "    def get_batch(self):\n",
    "        balanced_batch_images = []\n",
    "        balanced_batch_texts = []\n",
    "\n",
    "        for i, data_loader_iter in enumerate(self.dataloader_iter_list):\n",
    "            image, text = data_loader_iter.next()\n",
    "            balanced_batch_images.append(image)\n",
    "            balanced_batch_texts += text\n",
    "\n",
    "\n",
    "        balanced_batch_images = torch.cat(balanced_batch_images, 0)\n",
    "\n",
    "        return balanced_batch_images, balanced_batch_texts\n",
    "\n",
    "    \n",
    "    "
   ]
  },
  {
   "cell_type": "code",
   "execution_count": 3,
   "id": "2c222e6d",
   "metadata": {},
   "outputs": [],
   "source": [
    "import easydict\n",
    "opt = easydict.EasyDict({\n",
    "    \"exp_name\": \"test_01\",\n",
    "    \"train_data\": \"/data/data/STARN/data_lmdb_release/training\",\n",
    "    \"valid_data\":\"/data/data/STARN/data_lmdb_release/validation\",\n",
    "    \"manualSeed\": 1111,\n",
    "    \"workers\": 16,\n",
    "    \"batch_size\":768,\n",
    "    \"num_iter\":300000,\n",
    "    \"valInterval\":1,\n",
    "    \"saved_model\":'',\n",
    "    \"FT\":False,\n",
    "    \"adam\":False,\n",
    "    \"lr\":1,\n",
    "    \"beta1\":0.9,\n",
    "    \"rho\":0.95,\n",
    "    \"eps\":1e-8,\n",
    "    \"grad_clip\":5,\n",
    "    \"baiduCTC\":False,\n",
    "    \"select_data\":'ST',\n",
    "    \"batch_ratio\":'1',\n",
    "    \"total_data_usage_ratio\":'1.0',\n",
    "    \"batch_max_length\":25,\n",
    "    \"imgW\":100,\n",
    "    \"imgH\":32,\n",
    "    \"rgb\":False,\n",
    "    \"character\":\"0123456789abcdefghijklmnopqrstuvwxyz\",\n",
    "    \"sensitive\":False,\n",
    "    \"PAD\":False,\n",
    "    \"data_filtering_off\":False,\n",
    "    \"Transformation\":\"TPS\",\n",
    "    \"FeatureExtraction\":\"ResNet\",\n",
    "    \"SequenceModeling\":\"BiLSTM\",\n",
    "    \"Prediction\":'Attn',\n",
    "    \"num_fiducial\":20,\n",
    "    \"input_channel\":3,\n",
    "    \"output_channel\":512,\n",
    "    \"hidden_size\":256    \n",
    "})\n",
    "\n",
    "opt.select_data = opt.select_data.split('-')\n",
    "opt.batch_ratio = opt.batch_ratio.split('-')\n",
    "\n",
    "train_dataset = custom_Batch_Balanced_Dataset(opt)\n",
    "\n"
   ]
  },
  {
   "cell_type": "code",
   "execution_count": 4,
   "id": "2cbf2d03",
   "metadata": {},
   "outputs": [
    {
     "name": "stdout",
     "output_type": "stream",
     "text": [
      "torch.Size([1, 32, 100])\n",
      "300 ['언제나여기', '이하동문', '별로에요 ', '수고하세요', '불편해함', '오배송됨', '감삿합니다', '걍그래요', '터치안되네', '별로에요 ', '굿 돈늗', '유통기한이', '잘신을게요', '아주조나요', '안사요언거', '조아요 ', '마시쪄요', '방음력 ', '일회용칫솔', '진짜최악임', '짱짱좋아열', '구매실패', '별롱예요', '졸라소냐', '별로네여', '요텈렷샤', '굿굿이에요', '좋아염 굿', '별로였어요', '넘 예버용', '만족합닏3', '가가가가고', '느끼합니다', '넘귀여워요', '효과있어요', '늩흕솢긴', '곽티슈인줄', '빠른배송다', '비추입니다', '안좋아요요', '잘써집니다', '잘쓸게요오', '만족도 2', '짜요짜요짜', '짱짱좋아연', '안찢어져요', '너무 좋요', '만족해용앙', '잘먹네요', '만족 짱', '넘작아요', '디지지짖', '별루에여', '배송불만', '재구매  ', '너무비싸요', '괜히삿움 ', '괜찮아요 ', '그럭저럭요', '힘이 없음', '쥰나닥음 ', '시원시원', '무난합니다', '조 아 오', '넘나좋아요', '불만이예요', '몰라요 ', '불편해요', ' 즈깂깃', '재밋네요', '넘이뻐여', '아재우러대', '잘쓸게오', '너무짭니다', '좋아요 엉', '만에드루여', '앵냐야로', '정말 좋요', '잘쓸께요6', '넘귀여워요', '맛나네요오', '완전별로요', '어머해마아', '굿입니다요', '배송완전', '속상하다', '만독한비다', '완던불사임', '맛없어요', '별로에용', '싸고좋아요', '빠르네요 ', '오졋다리용', '아 비싸', '배송느림요', '11 겟또', '짱이예요', '고장났음 ', '제품질낮음', '재구매 ', '쓸만합니다', '별로예요', '무풍 무풍', '너무 허접', '예버용예용', '빨리왔어야', '맛있어용', '다신안살것', '대만족에요', '감사합니다', '배송기사님', '배송느림', '전왜안맞죠', '기대할께요', '구두같음굿', '별로에요', '반짝이네요', '그저그래요', '재구매 ', '좀 허접', '맛있어요', '글쎄요  ', '넘예뻐요', '열남 아', '이건아닌듯', '별로예요', '쇠맛나요', '기스잇슴요', '괜찮아요', '받았습니다', '좋읍니다', '서서서서', '무난하네요', '쓰지마세요', '수리 끝', '쳐처파핖', '부직포임', '소감이라', '정말좋아요', '배고파요오', '보통이예요', '53요6', '실망입니다', '쉐이크 ', '맛이없어요', '잘써볼께요', '보통이에요', '조아요 ', '시원합니당', '라흐르딴', '작습니다', '족랍니다', '만족합니다', '빠른배송', '굿굿굿이여', '구멍뚫려옴', '일자핏임', '친절해요', '잘안잡혀요', '너무하네요', '좋아요 난', '종소러츌료', '맛잇어요', '저렴하네요', '칼라 별로', '조하용옹오', '괜히삿네요', '맛이없어요', '잘받았니다', '다떨어짐', '감사르임다', '좋아요튼튼', '별로네요영', ' 늦게옴', '다버렸어요', '개안네여 ', '홓노모몸', '숨블리웨빙', '잘받앗어예', '편하겠어요', '사이즈커요', '렸토터코큐', '따뜻해요', '잘받았네요', '입기좋아요', '친구선물용', '불만가득임', '그냥그래요', '안달려요', '조아요어', '배송 느림', '좋습니다 ', '재구매 ', '대박이야장', '뽀송뽀송행', '정말이뻐용', '그지같네여', '으벌레가', '가이뻐용', '맛있어요', '아파요 ', '핑크좋아요', '이게뭐고', '싸고좋아얌', '잘되네요', '안예쁘네요', '죠습미다', '튼튼해요', '재구매 ', '예쁘네요', '다새사왓음', '정말빨라요', '굿이에용 ', '마니파세용', '재구매 ', '좋습니다예', '편해요 ', '구다지 ', '잘떨어져요', '벗겨져요', '상품상태가', '오파엋우', '냄새나요', '참 편해요', '헐럴함 ', '조아요오로', '맛있어요', '감사합니다', '잘먹을게요', '그냥씁니다', '엄청고소', '잘잡히네요', '만족좋아요', '생각보다는', '핳터 터 ', '재구매 ', '택배가느림', '커마므뉴', '배송빨라요', '그냥 줄', '악악굿굿 ', '무거워요', '그레고리안', '너무이뻐요', '효과없어여', '기사막혀요', '이쁘네여으', '별루에요 ', '배송실화냐', '불만 매우', '그저그래여', '이뻐요 ', '완전부실함', '구매확정', '재구매 ', '맛잇네요', '그럭저럭 ', '찢어졌어요', '그저그너', '비위생적', '애얏여새', '나무갈라짐', '너무약함', '기대이하', '별루에요 ', '흔들려서요', '그져그래요', '후져보여요', '괜히샀네요', '걍그렇네요', '이쁘고 ', '잘받았어용', '감사합니가', '맛있겠지요', '별루에영 ', '좋아오 ', '재구매 ', '돈이아까움', '재구매 ', '잘안되네여', '나름예뻐요', '딱맞아요', '너무약함', ' 별로네영', '그저그래요', '단골할래오', '색 예뻐요', '진짜별로임', '음별루예요', '별로에요', '잘빠져요', '안비려요', '참피온굿', '별로네요흠', '좋습니다', '별루에요', '와받자마자', '비싸게샀음', '그냥그래용', '좋읍니다요']\n"
     ]
    }
   ],
   "source": [
    "image_tensors, labels = train_dataset.get_batch()\n",
    "print(image_tensors[0].shape)\n",
    "print(len(labels),labels)"
   ]
  },
  {
   "cell_type": "code",
   "execution_count": 5,
   "id": "c8c74469",
   "metadata": {},
   "outputs": [
    {
     "data": {
      "image/png": "[encoded data removed]",
      "text/plain": [
       "<Figure size 432x288 with 1 Axes>"
      ]
     },
     "metadata": {
      "needs_background": "light"
     },
     "output_type": "display_data"
    }
   ],
   "source": [
    "import matplotlib.pyplot as plt\n",
    "\n",
    "plt.imshow(image_tensors[0].numpy()[0,:,:])\n",
    "plt.show()"
   ]
  },
  {
   "cell_type": "code",
   "execution_count": 6,
   "id": "3329db2d",
   "metadata": {},
   "outputs": [
    {
     "name": "stdout",
     "output_type": "stream",
     "text": [
      "torch.Size([1, 32, 100])\n"
     ]
    }
   ],
   "source": [
    "print(image_tensors[1].shape)"
   ]
  },
  {
   "cell_type": "code",
   "execution_count": 7,
   "id": "763dfd1d",
   "metadata": {},
   "outputs": [
    {
     "data": {
      "image/png": "[encoded data removed]",
      "text/plain": [
       "<PIL.JpegImagePlugin.JpegImageFile image mode=RGB size=200x41 at 0x7F1DD9EA9D10>"
      ]
     },
     "metadata": {},
     "output_type": "display_data"
    }
   ],
   "source": [
    "sssxzc = Image.open(\"/data/work_dir/img/generate_text_ko/mrjaehong_text_generation/generate_img/image/0000000225.jpg\")\n",
    "display(sssxzc)"
   ]
  },
  {
   "cell_type": "code",
   "execution_count": 8,
   "id": "34f639ce",
   "metadata": {},
   "outputs": [
    {
     "name": "stdout",
     "output_type": "stream",
     "text": [
      "(200, 41)\n",
      "<PIL.Image.Image image mode=L size=200x41 at 0x7F1DD9E17990>\n"
     ]
    },
    {
     "data": {
      "image/png": "[encoded data removed]",
      "text/plain": [
       "<PIL.Image.Image image mode=L size=200x41 at 0x7F1DD9E17990>"
      ]
     },
     "metadata": {},
     "output_type": "display_data"
    }
   ],
   "source": [
    "pil_img = Image.open(\"/data/work_dir/img/generate_text_ko/mrjaehong_text_generation/generate_img/image/0000000225.jpg\").convert(\"L\")\n",
    "print(pil_img.size)  \n",
    " \n",
    "pil_to_tensor = transforms.ToTensor()(pil_img).unsqueeze_(0)\n",
    "\n",
    "tensor_to_pil = transforms.ToPILImage()(pil_to_tensor.squeeze_(0))\n",
    "print(tensor_to_pil)\n",
    "display(tensor_to_pil)"
   ]
  },
  {
   "cell_type": "code",
   "execution_count": null,
   "id": "9618e596",
   "metadata": {},
   "outputs": [],
   "source": []
  }
 ],
 "metadata": {
  "kernelspec": {
   "display_name": "Python 3",
   "language": "python",
   "name": "python3"
  },
  "language_info": {
   "codemirror_mode": {
    "name": "ipython",
    "version": 3
   },
   "file_extension": ".py",
   "mimetype": "text/x-python",
   "name": "python",
   "nbconvert_exporter": "python",
   "pygments_lexer": "ipython3",
   "version": "3.7.5"
  }
 },
 "nbformat": 4,
 "nbformat_minor": 5
}
