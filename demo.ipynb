{
 "cells": [
  {
   "cell_type": "markdown",
   "metadata": {
    "colab_type": "text",
    "id": "view-in-github"
   },
   "source": [
    "<a href=\"https://colab.research.google.com/github/tgalkovskyi/deep-text-recognition-benchmark/blob/master/demo.ipynb\" target=\"_parent\"><img src=\"https://colab.research.google.com/assets/colab-badge.svg\" alt=\"Open In Colab\"/></a>"
   ]
  },
  {
   "cell_type": "markdown",
   "metadata": {
    "colab_type": "text",
    "id": "dHbHK60Tqn2c"
   },
   "source": [
    "This can be executed in https://colab.research.google.com \"Python 3 / GPU\" runtime."
   ]
  },
  {
   "cell_type": "markdown",
   "metadata": {
    "colab_type": "text",
    "id": "jX-ucvimlaFZ"
   },
   "source": [
    "Next, download large model files from Google Drive, using hack: https://stackoverflow.com/questions/20665881/direct-download-from-google-drive-using-google-drive-api/32742700#32742700"
   ]
  },
  {
   "cell_type": "code",
   "execution_count": 1,
   "metadata": {
    "colab": {
     "base_uri": "https://localhost:8080/",
     "height": 833
    },
    "colab_type": "code",
    "id": "9eEhhPBshkjr",
    "outputId": "205d0bd8-340f-4e9b-ebfd-e9c8f7d327a0"
   },
   "outputs": [
    {
     "name": "stdout",
     "output_type": "stream",
     "text": [
      "  % Total    % Received % Xferd  Average Speed   Time    Time     Time  Current\n",
      "                                 Dload  Upload   Total   Spent    Left  Speed\n",
      "100  3295    0  3295    0     0   7194      0 --:--:-- --:--:-- --:--:--  7194\n",
      "  % Total    % Received % Xferd  Average Speed   Time    Time     Time  Current\n",
      "                                 Dload  Upload   Total   Spent    Left  Speed\n",
      "100   408    0   408    0     0    890      0 --:--:-- --:--:-- --:--:--   890\n",
      "  0     0    0     0    0     0      0      0 --:--:-- --:--:-- --:--:--     0\n",
      "  0     0    0     0    0     0      0      0 --:--:--  0:00:01 --:--:--     0\n",
      "100  186M    0  186M    0     0  9237k      0 --:--:--  0:00:20 --:--:-- 10.4M\n",
      "  % Total    % Received % Xferd  Average Speed   Time    Time     Time  Current\n",
      "                                 Dload  Upload   Total   Spent    Left  Speed\n",
      "100   388    0   388    0     0    234      0 --:--:--  0:00:01 --:--:--   234\n",
      "  % Total    % Received % Xferd  Average Speed   Time    Time     Time  Current\n",
      "                                 Dload  Upload   Total   Spent    Left  Speed\n",
      "  0     0    0     0    0     0      0      0 --:--:-- --:--:-- --:--:--     0\n",
      "100 71106    0 71106    0     0  93437      0 --:--:-- --:--:-- --:--:-- 93437\n",
      "  % Total    % Received % Xferd  Average Speed   Time    Time     Time  Current\n",
      "                                 Dload  Upload   Total   Spent    Left  Speed\n",
      "100   388    0   388    0     0    249      0 --:--:--  0:00:01 --:--:--   249\n",
      "  % Total    % Received % Xferd  Average Speed   Time    Time     Time  Current\n",
      "                                 Dload  Upload   Total   Spent    Left  Speed\n",
      "  0     0    0     0    0     0      0      0 --:--:-- --:--:-- --:--:--     0\n",
      "100 71138    0 71138    0     0  98940      0 --:--:-- --:--:-- --:--:-- 98940\n",
      "  % Total    % Received % Xferd  Average Speed   Time    Time     Time  Current\n",
      "                                 Dload  Upload   Total   Spent    Left  Speed\n",
      "100  3311    0  3311    0     0   6883      0 --:--:-- --:--:-- --:--:--  6869\n",
      "  % Total    % Received % Xferd  Average Speed   Time    Time     Time  Current\n",
      "                                 Dload  Upload   Total   Spent    Left  Speed\n",
      "100   408    0   408    0     0    820      0 --:--:-- --:--:-- --:--:--   819\n",
      "  0     0    0     0    0     0      0      0 --:--:-- --:--:-- --:--:--     0\n",
      "  0     0    0     0    0     0      0      0 --:--:--  0:00:01 --:--:--     0\n",
      "100  189M    0  189M    0     0  9259k      0 --:--:--  0:00:20 --:--:-- 10.5M\n",
      "  % Total    % Received % Xferd  Average Speed   Time    Time     Time  Current\n",
      "                                 Dload  Upload   Total   Spent    Left  Speed\n",
      "100  3296    0  3296    0     0   6160      0 --:--:-- --:--:-- --:--:--  6160\n",
      "  % Total    % Received % Xferd  Average Speed   Time    Time     Time  Current\n",
      "                                 Dload  Upload   Total   Spent    Left  Speed\n",
      "100   408    0   408    0     0    698      0 --:--:-- --:--:-- --:--:--   697\n",
      "  0     0    0     0    0     0      0      0 --:--:--  0:00:01 --:--:--     0\n",
      "  0     0    0     0    0     0      0      0 --:--:--  0:00:01 --:--:--     0\n",
      "100  189M    0  189M    0     0  8665k      0 --:--:--  0:00:22 --:--:-- 10.0M\n",
      "  % Total    % Received % Xferd  Average Speed   Time    Time     Time  Current\n",
      "                                 Dload  Upload   Total   Spent    Left  Speed\n",
      "100  3295    0  3295    0     0   6398      0 --:--:-- --:--:-- --:--:--  6398\n",
      "  % Total    % Received % Xferd  Average Speed   Time    Time     Time  Current\n",
      "                                 Dload  Upload   Total   Spent    Left  Speed\n",
      "100   408    0   408    0     0    713      0 --:--:-- --:--:-- --:--:--   712\n",
      "  0     0    0     0    0     0      0      0 --:--:-- --:--:-- --:--:--     0\n",
      "  0     0    0     0    0     0      0      0 --:--:--  0:00:01 --:--:--     0\n",
      "100  186M    0  186M    0     0  9382k      0 --:--:--  0:00:20 --:--:-- 10.4M\n",
      "-rw-r--r-- 1 root root 195888589 May 17 12:55 None-ResNet-None-CTC.pth\n",
      "-rw-r--r-- 1 root root     71106 May 17 12:55 None-VGG-BiLSTM-CTC.pth\n",
      "-rw-r--r-- 1 root root     71138 May 17 12:55 None-VGG-None-CTC.pth\n",
      "-rw-r--r-- 1 root root 198975977 May 17 12:55 TPS-ResNet-BiLSTM-Attn-case-sensitive.pth\n",
      "-rw-r--r-- 1 root root 198678680 May 17 12:56 TPS-ResNet-BiLSTM-Attn.pth\n",
      "-rw-r--r-- 1 root root 195888589 May 17 12:56 TPS-ResNet-BiLSTM-CTC.pth\n"
     ]
    }
   ],
   "source": [
    "models = {\n",
    "    'None-ResNet-None-CTC.pth': 'https://drive.google.com/open?id=1FocnxQzFBIjDT2F9BkNUiLdo1cC3eaO0',\n",
    "    'None-VGG-BiLSTM-CTC.pth': 'https://drive.google.com/open?id=1GGC2IRYEMQviZhqQpbtpeTgHO_IXWetG',\n",
    "    'None-VGG-None-CTC.pth': 'https://drive.google.com/open?id=1FS3aZevvLiGF1PFBm5SkwvVcgI6hJWL9',\n",
    "    'TPS-ResNet-BiLSTM-Attn-case-sensitive.pth': 'https://drive.google.com/open?id=1ajONZOgiG9pEYsQ-eBmgkVbMDuHgPCaY',\n",
    "    'TPS-ResNet-BiLSTM-Attn.pth': 'https://drive.google.com/open?id=1b59rXuGGmKne1AuHnkgDzoYgKeETNMv9',\n",
    "    'TPS-ResNet-BiLSTM-CTC.pth': 'https://drive.google.com/open?id=1FocnxQzFBIjDT2F9BkNUiLdo1cC3eaO0',\n",
    "}\n",
    "\n",
    "for k, v in models.items():\n",
    "  doc_id = v[v.find('=')+1:]\n",
    "  !curl -c /tmp/cookies \"https://drive.google.com/uc?export=download&id=$doc_id\" > /tmp/intermezzo.html\n",
    "  !curl -L -b /tmp/cookies \"https://drive.google.com$(cat /tmp/intermezzo.html | grep -Po 'uc-download-link\" [^>]* href=\"\\K[^\"]*' | sed 's/\\&amp;/\\&/g')\" > $k\n",
    "\n",
    "!ls -al *.pth"
   ]
  },
  {
   "cell_type": "code",
   "execution_count": 2,
   "metadata": {
    "colab": {},
    "colab_type": "code",
    "id": "s-E716WnhfrI"
   },
   "outputs": [],
   "source": [
    "output = !CUDA_VISIBLE_DEVICES=0 python3 demo.py \\\n",
    "--Transformation TPS --FeatureExtraction ResNet --SequenceModeling BiLSTM --Prediction Attn \\\n",
    "--image_folder demo_image/ \\\n",
    "--saved_model TPS-ResNet-BiLSTM-Attn.pth"
   ]
  },
  {
   "cell_type": "code",
   "execution_count": 6,
   "metadata": {
    "colab": {
     "base_uri": "https://localhost:8080/",
     "height": 1000
    },
    "colab_type": "code",
    "id": "bJRPln2QlxlJ",
    "outputId": "a81e0b6b-8171-49a6-c59f-15649d7c6bb8"
   },
   "outputs": [
    {
     "data": {
      "text/html": [
       "<div>\n",
       "<style scoped>\n",
       "    .dataframe tbody tr th:only-of-type {\n",
       "        vertical-align: middle;\n",
       "    }\n",
       "\n",
       "    .dataframe tbody tr th {\n",
       "        vertical-align: top;\n",
       "    }\n",
       "\n",
       "    .dataframe thead th {\n",
       "        text-align: right;\n",
       "    }\n",
       "</style>\n",
       "<table border=\"1\" class=\"dataframe\">\n",
       "  <thead>\n",
       "    <tr style=\"text-align: right;\">\n",
       "      <th></th>\n",
       "    </tr>\n",
       "  </thead>\n",
       "  <tbody>\n",
       "  </tbody>\n",
       "</table>\n",
       "</div>"
      ],
      "text/plain": [
       "Empty DataFrame\n",
       "Columns: []\n",
       "Index: []"
      ]
     },
     "execution_count": 6,
     "metadata": {},
     "output_type": "execute_result"
    }
   ],
   "source": [
    "from IPython.core.display import display, HTML\n",
    "from PIL import Image\n",
    "import base64\n",
    "import io\n",
    "import pandas as pd\n",
    "\n",
    "data = pd.DataFrame()\n",
    "data\n",
    "\n",
    "for ind, row in enumerate(output[output.index('image_path\\tpredicted_labels\\tconfidence score')+2:]):\n",
    "  row = row.split('\\t')\n",
    "  filename = row[0].strip()\n",
    "  label = row[1].strip()\n",
    "  conf = row[2].strip()\n",
    "  img = Image.open(filename)\n",
    "  img_buffer = io.BytesIO()\n",
    "  img.save(img_buffer, format=\"PNG\")\n",
    "  imgStr = base64.b64encode(img_buffer.getvalue()).decode(\"utf-8\") \n",
    "\n",
    "  data.loc[ind, 'img'] = '<img src=\"data:image/png;base64,{0:s}\">'.format(imgStr)\n",
    "  data.loc[ind, 'id'] = filename\n",
    "  data.loc[ind, 'label'] = label\n",
    "  data.loc[ind, 'conf'] = conf\n",
    "\n",
    "html_all = data.to_html(escape=False)\n",
    "display(HTML(html_all))"
   ]
  },
  {
   "cell_type": "code",
   "execution_count": null,
   "metadata": {},
   "outputs": [],
   "source": []
  }
 ],
 "metadata": {
  "accelerator": "GPU",
  "colab": {
   "collapsed_sections": [],
   "include_colab_link": true,
   "name": "deep-text-recognition-benchmark.ipynb",
   "provenance": []
  },
  "kernelspec": {
   "display_name": "Python 3",
   "language": "python",
   "name": "python3"
  },
  "language_info": {
   "codemirror_mode": {
    "name": "ipython",
    "version": 3
   },
   "file_extension": ".py",
   "mimetype": "text/x-python",
   "name": "python",
   "nbconvert_exporter": "python",
   "pygments_lexer": "ipython3",
   "version": "3.7.5"
  }
 },
 "nbformat": 4,
 "nbformat_minor": 1
}
