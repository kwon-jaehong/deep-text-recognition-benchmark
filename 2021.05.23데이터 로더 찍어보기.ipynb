{
 "cells": [
  {
   "cell_type": "code",
   "execution_count": 1,
   "id": "49962e19",
   "metadata": {},
   "outputs": [
    {
     "name": "stdout",
     "output_type": "stream",
     "text": [
      "--------------------------------------------------------------------------------\n",
      "dataset_root: /data/data/STARN/data_lmdb_release/training\n",
      "opt.select_data: ['ST']\n",
      "opt.batch_ratio: ['1']\n",
      "--------------------------------------------------------------------------------\n",
      "dataset_root:    /data/data/STARN/data_lmdb_release/training\t dataset: ST\n",
      "sub-directory:\t/ST\t num samples: 5522807\n",
      "sub-directory:\t/MJ/MJ_valid\t num samples: 802731\n",
      "sub-directory:\t/MJ/MJ_test\t num samples: 891924\n",
      "sub-directory:\t/MJ/MJ_train\t num samples: 7224586\n",
      "num total samples of ST: 14442048 x 1.0 (total_data_usage_ratio) = 14442048\n",
      "num samples of ST per batch: 768 x 1.0 (batch_ratio) = 768\n",
      "--------------------------------------------------------------------------------\n",
      "Total_batch_size: 768 = 768\n",
      "--------------------------------------------------------------------------------\n"
     ]
    }
   ],
   "source": [
    "import os\n",
    "import easydict\n",
    "import torch\n",
    "import torch.backends.cudnn as cudnn\n",
    "import torch.nn.init as init\n",
    "import torch.optim as optim\n",
    "import torch.utils.data\n",
    "\n",
    "from dataset import hierarchical_dataset, AlignCollate, Batch_Balanced_Dataset\n",
    "\n",
    "opt = easydict.EasyDict({\n",
    "    \"exp_name\": \"test_01\",\n",
    "    \"train_data\": \"/data/data/STARN/data_lmdb_release/training\",\n",
    "    \"valid_data\":\"/data/data/STARN/data_lmdb_release/validation\",\n",
    "    \"manualSeed\": 1111,\n",
    "    \"workers\": 16,\n",
    "    \"batch_size\":768,\n",
    "    \"num_iter\":300000,\n",
    "    \"valInterval\":1,\n",
    "    \"saved_model\":'',\n",
    "    \"FT\":False,\n",
    "    \"adam\":False,\n",
    "    \"lr\":1,\n",
    "    \"beta1\":0.9,\n",
    "    \"rho\":0.95,\n",
    "    \"eps\":1e-8,\n",
    "    \"grad_clip\":5,\n",
    "    \"baiduCTC\":False,\n",
    "    \"select_data\":'ST',\n",
    "    \"batch_ratio\":'1',\n",
    "    \"total_data_usage_ratio\":'1.0',\n",
    "    \"batch_max_length\":25,\n",
    "    \"imgW\":100,\n",
    "    \"imgH\":32,\n",
    "    \"rgb\":False,\n",
    "    \"character\":\"0123456789abcdefghijklmnopqrstuvwxyz\",\n",
    "    \"sensitive\":False,\n",
    "    \"PAD\":False,\n",
    "    \"data_filtering_off\":False,\n",
    "    \"Transformation\":\"TPS\",\n",
    "    \"FeatureExtraction\":\"ResNet\",\n",
    "    \"SequenceModeling\":\"BiLSTM\",\n",
    "    \"Prediction\":'Attn',\n",
    "    \"num_fiducial\":20,\n",
    "    \"input_channel\":3,\n",
    "    \"output_channel\":512,\n",
    "    \"hidden_size\":256    \n",
    "})\n",
    "\n",
    "opt.select_data = opt.select_data.split('-')\n",
    "opt.batch_ratio = opt.batch_ratio.split('-')\n",
    "\n",
    "train_dataset = Batch_Balanced_Dataset(opt)\n",
    "\n"
   ]
  },
  {
   "cell_type": "code",
   "execution_count": 2,
   "id": "cc652124",
   "metadata": {},
   "outputs": [],
   "source": [
    "image_tensors, labels = train_dataset.get_batch()"
   ]
  },
  {
   "cell_type": "code",
   "execution_count": 3,
   "id": "2f10c212",
   "metadata": {},
   "outputs": [
    {
     "name": "stdout",
     "output_type": "stream",
     "text": [
      "torch.Size([1, 32, 100])\n",
      "768 ['you', 'else', 'sixty', 'mohamed', 'moot', 'sinister', 'onstage', 'our', 'the', 'function', 'quarantining', 'lambently', 'brightly', 'quote', 'the', 'are', 'the', 'downrange', 'had', 'inhabits', 'does', 'the', 'jibes', 'you', 'statute', 'quiescently', 'crime', 'torpedoing', 'iowa', 'troy', 'deducible', 'zestiest', 'all', 'anesthesiology', 'schematics', 'newbie', 'one', 'pl', 'doing', 'the', 'sorties', 'lion', 'mightier', 'for', 'flooring', 'rum', 'the', 'and', '01', 'aerodromes', 'charmers', 'can', '22', 'recruitment', 'matte', 'precooked', 'it', 'wonkier', 'prevaricating', 'concomitant', 'apelike', '12', 'the', 'preclude', 'fawners', 'and', 'watched', 'is', 'conductivity', 'believe', 'plenty', 'boaters', 'did', 'bonfire', 'monoclonal', 'baccarat', 'thistledown', 'reacts', 'researchers', 'ambassadorship', 'on', 'moons', 'will', '1993', 'shanghaiing', 'ats', 'monocular', 'agrees', 'lewder', 'the', 'a', 'will', 'berried', 'confides', 'years', 'intransigence', 'the', 'shuffled', 'middling', 'and', 'the', 'the', 'sortieing', 'jailhouse', 'cling', 'gerunds', 'reprieved', 'you', '1993', 'the', 'inadvisability', 'heaviness', 'will', 'his', 'had', 'telugu', 'her', 'as', 'enable', 'kusch', 'parasitism', 'sassoon', 'and', 'comprehends', 'hum', 'subjectivity', 'tightness', 'stuccoed', 'ivorian', 'palfreys', 'this', 'way', 'was', 'troupe', 'national', 'apr', 'the', 'perjuries', 'broils', 'next', 'prorate', 'sensitized', 'and', 'freddy', 'the', 'nostalgic', 'the', 'word', 'carpenter', 'birthed', 'stay', 'firmest', 'memorializes', 'pretty', 'bekesy', 'that', 'manichean', 'the', 'the', 'undemonstrative', 'dysprosium', 'the', 'for', 'deletions', 'lacerate', 'page', 'cabbagetown', 'in', 'serrations', 'multiplicative', 'they', 'organs', 'ayatollahs', 'ratbags', 'categorize', 'with', 'equerries', 'overbooking', 'reluctantly', 'peewees', 'launch', 'for', 'alleging', 'softener', 'eclipse', 'wretches', 'orthodontics', 'rittenhouse', 'honesty', 'pelican', 'of', 'sendoff', 'starfish', 'apr', 'space', 'the', 'and', 'to', 'she', 'the', 'are', 'winston', 'a', 'predate', 'the', 'able', 'sarong', 'eyesight', 'their', 'gave', 'optometrist', 'mess', 'bulldogged', 'heiser', 'mi', 'joyrides', 'us', 'mailings', 'get', 'husking', 'gimpiest', 'regulated', 'gladiators', 'westernize', 'the', 'and', 'limited', 'honorableness', 'audibility', 'would', 'bullfrogs', 'for', 'fistulous', 'onionskin', 'noticed', 'the', 'not', 'the', 'can', 'appeasing', 'singes', 'unpolitical', 'dibs', 'of', 'marabou', 'exultantly', 'aneurysm', 'automatizes', 'shuttle', 'are', 'invitation', 'undercut', 'forum', 'into', 'looters', 'the', 'flammability', 'africa', 'a', 'out', 'that', 'the', 'kohl', 'abu', 'ringling', 'ambarchyan', 'lilting', 'mustiness', 'expatriate', 'testifies', 'lens', 'very', 'typing', 'talk', 'call', 'boys', 'infection', 'institutes', 'proffers', 'more', 'than', 'detoxed', 'what', 'lisper', 'impurely', 'saw', 'elicits', 'shudders', 'couple', 'lands', 'remit', 'fomentation', 'and', 'restructurings', 'timbres', 'occupants', 'cherub', 'salesrooms', 'kirby', 'escapees', 'oil', 'ghee', 'c13', 'mishandling', 'tabletop', 'lisp', 'uncorks', 'mentalities', 'instepay', 'ends', 'imho', 'any', 'may', 'to', 'stockpiling', 'the', 'roseate', 'as', 'make', 'multitude', 'tear', 'curiously', 'that', 'neoprene', 'urdu', 'the', 'were', 'gigo', 'crappie', 'esteban', 'refasten', 'lessie', 'manlier', 'rate', 'royalties', 'out', 'discontinuation', 'lascaux', 'of', 'and', '21', 'pinfeather', 'telescoped', 'aquarium', 'reseals', 'courageous', 'insularity', 'insularity', 'sorts', 'hated', 'schnozzles', 'and', '22', 'rechartered', 'proletariat', 'brays', 'gormandizing', 'quails', 'strindberg', 'postdates', 'anglicization', 'canst', 'toughie', 'scores', 'citrons', 'apple', 'wages', 'puller', 'was', 'pastas', 'wonderfully', 'tunics', 'tracked', 'doghouse', 'unexpectedness', 'rejuvenating', 'punctuation', 'to', 'marsh', 'accruals', 'straitjackets', 'able', 'mizzens', 'rubbermaid', 'and', 'the', 'tidies', 'the', 'frees', 'you', 'off', 'that', 'preassigned', 'privacy', 'enviably', 'stretchiest', 'merrill', 'a', 'the', 'these', 'galvanizing', 'anemia', 'yours', 'when', 'frugal', 'ron', 'cerebrating', 'nolan', 'tuvalu', 'not', 'portcullises', 'anaerobes', 'of', 'questionnaire', '479', 'non', 'swifter', 'wear', 'bergers', 'dignitaries', 'tabulations', 'strict', 'huey', 'fens', 'the', '21', 'dumbwaiters', 'did', 'are', 'acosta', 'usually', 'sculled', 'cervantes', 'emotion', 'to', 'nonpersons', 'was', 'kayaks', 'gigabits', 'two', 'ken', 'altoids', 'like', 'castoff', 'quintessential', 'overdub', '1993', 'quoin', 'opprobrium', 'short', 'micky', 'homepage', 'joyner', 'reweds', 'forelock', 'who', 'debauches', 'hamsters', 'are', 'goldie', 'courtney', 'of', 'gunman', 'regionalism', 'endorsement', 'engels', 'cavalries', 'openwork', 'the', 'lone', 'and', 'minded', 'are', 'baum', 'the', 'eoe', 'moll', 'persecutor', 'overacts', 'very', 'boga', 'stews', 'clove', 'net', 'and', 'ricking', 'an', 'find', 'rest', 'provenance', 'corporation', 'have', 'data', 'pinks', 'reimbursable', 'headpins', 'was', 'is', 'is', 'nicest', 'thirsting', 'fibrillating', 'escher', 'apr', 'doughty', 'prodded', 'and', 'lidos', 'beauteous', 'shamefully', 'tqm', '431', '1900', 'of', 'for', 'skywards', 'lecturer', 'contumaciously', 'article', 'hence', 'the', 'prostituted', 'gorps', 'testiest', 'predating', 'did', 'mongol', 'navajoes', 'khmer', 'reminiscing', 'did', 'they', 'armhole', 'would', 'these', 'retractile', 'east', 'with', 'hep', 'insofar', 'strawing', 'for', 'bouncers', 'sure', 'shirrings', 'inflects', 'transforms', 'ifs', 'the', 'the', 'briefcase', 'receipt', 'just', 'watchfully', 'the', '1993', 'loping', 'lays', 'pay', 'for', 'newsgroups', 'staffing', 'the', 'the', '479', 'stuffiness', 'shreds', 'inconsiderable', 'midlands', 'in', 'the', 'a', 'aui', '15', 'all', 'lippiest', 'being', 'unhappiest', 'unfair', 'obstreperousness', 'minder', 'bill', 'like', 'workbasket', 'vogle', 'pyle', 'are', 'babyish', 'noncredit', 'costliness', 'determent', 'they', 'waled', 'taste', 'acquit', 'been', 'jibbing', 'used', 'ixi', 'spearfished', 'italicizes', 'glenda', 'but', 'entrees', 'brutalities', 'priory', 'help', 'accrue', 'beautified', 'violet', 'unhelpfully', 'frumpy', 'snark', 'manana', 'the', 'and', 'turtleneck', 'harpooner', 'the', 'show', 'council', 'expecting', 'italy', 'junkets', '801', 'proving', 'his', 'tjl', 'pompanos', 'movement', 'keys', 'motley', 'regrets', 'the', 'bike', 'appertained', 'a', 'bucking', 'adman', 'miscounting', 'monocled', 'leafing', 'affliction', 'tie', 'styrofoams', 'of', 'need', 'for', 'disquisition', 'marissa', 'suppressible', 'any', 'conspectus', 'that', 'j', 'discarded', 'masculines', 'bewilders', 'scrunched', 'clavier', 'examiner', 'hard', 'it', 'the', 'as', 'gouaches', 'gussies', 'metallica', 'slg', 'kirghiz', 'zeitgeist', 'ethan', 'efficient', 'and', 'ram', 'impermeability', 'the', 'pungent', 'linebackers', 'windows', 'unhanded', 'coxcomb', 'inspiring', 'monkeying', 'and', 'lovingly', 'avoid', 'philharmonics', 'sleepwalking', 'even', 'lifestyle', 'noodling', 'winces', 'compare', 'a', 'it', 'rubidium', 'prorating', 'effectiveness', 'warned', 'crosswinds', 'submissive', 'chokers', 'day', 'came', 'were', 'cupolas', 'doubtingly', 'or', 'transcendental', 'any', 'bertha', 'elegiacal', 'snarlingly', 'dickered', 'steamrollering', 'the', 'do', 'peak', 'on', 'assassins', 'gritters', 'swishing', 'you', 'pompom', 'am', 'consist', 'or', 'uprising', 'andrew', 'donged', 'need', 'grandstand', 'unloved', 'airmailed', 'saddening', 'marshier', 'poked', 'whitewash', 'cement', 'the', 'raved', 'this', 'reaped', 'for', 'oscilloscope', 'you', 'vga', 'but', 'frontbench', 'the', 'parentheses', 'lucas', 'harrington', 'only', 'for', 'the', 'a', 'marguerite', 'dory', 'regulating', 'i', 'of', 'that', 'that', 'and', 'saprophyte', 'reedit']\n"
     ]
    }
   ],
   "source": [
    "print(image_tensors[0].shape)\n",
    "print(len(labels),labels)"
   ]
  },
  {
   "cell_type": "code",
   "execution_count": 16,
   "id": "02f920f9",
   "metadata": {},
   "outputs": [
    {
     "data": {
      "image/png": "[encoded data removed]",
      "text/plain": [
       "<Figure size 432x288 with 1 Axes>"
      ]
     },
     "metadata": {
      "needs_background": "light"
     },
     "output_type": "display_data"
    }
   ],
   "source": [
    "import matplotlib.pyplot as plt\n",
    "\n",
    "plt.imshow(image_tensors[3].numpy()[0,:,:])\n",
    "plt.show()"
   ]
  },
  {
   "cell_type": "code",
   "execution_count": null,
   "id": "978b7a45",
   "metadata": {},
   "outputs": [],
   "source": []
  }
 ],
 "metadata": {
  "kernelspec": {
   "display_name": "Python 3",
   "language": "python",
   "name": "python3"
  },
  "language_info": {
   "codemirror_mode": {
    "name": "ipython",
    "version": 3
   },
   "file_extension": ".py",
   "mimetype": "text/x-python",
   "name": "python",
   "nbconvert_exporter": "python",
   "pygments_lexer": "ipython3",
   "version": "3.7.5"
  }
 },
 "nbformat": 4,
 "nbformat_minor": 5
}
