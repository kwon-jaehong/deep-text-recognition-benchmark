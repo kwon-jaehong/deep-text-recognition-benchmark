{
 "cells": [
  {
   "cell_type": "code",
   "execution_count": null,
   "id": "dae64266",
   "metadata": {},
   "outputs": [],
   "source": [
    "import torch\n",
    "import torch.nn as nn\n",
    "import torch.backends.cudnn as cudnn\n",
    "from torch.autograd import Variable\n",
    "\n",
    "\n",
    "\n",
    "\n",
    "\n",
    "from collections import OrderedDict\n",
    "from torchsummary import summary\n",
    "\n",
    "import torch.onnx\n",
    "\n",
    "\n",
    "\n",
    "net = CRAFT().cuda() \n",
    "\n",
    "\n",
    "dummy_data = torch.empty(1, 3, 224, 224, dtype = torch.float32)\n",
    "\n",
    "dummy_data = dummy_data.cuda()\n",
    "\n",
    "ONNX_FILE_PATH = './temp.onnx'\n",
    "\n",
    "torch.onnx.export(net, dummy_data, ONNX_FILE_PATH, input_names=['input'],output_names=['output'], export_params=True)\n"
   ]
  }
 ],
 "metadata": {
  "kernelspec": {
   "display_name": "Python 3",
   "language": "python",
   "name": "python3"
  },
  "language_info": {
   "codemirror_mode": {
    "name": "ipython",
    "version": 3
   },
   "file_extension": ".py",
   "mimetype": "text/x-python",
   "name": "python",
   "nbconvert_exporter": "python",
   "pygments_lexer": "ipython3",
   "version": "3.7.5"
  }
 },
 "nbformat": 4,
 "nbformat_minor": 5
}
